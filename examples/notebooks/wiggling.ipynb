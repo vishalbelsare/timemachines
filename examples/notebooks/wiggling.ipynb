{
  "nbformat": 4,
  "nbformat_minor": 0,
  "metadata": {
    "colab": {
      "provenance": [],
      "authorship_tag": "ABX9TyMczfr4u3Vwpilu6STz6nX2",
      "include_colab_link": true
    },
    "kernelspec": {
      "name": "python3",
      "display_name": "Python 3"
    },
    "language_info": {
      "name": "python"
    }
  },
  "cells": [
    {
      "cell_type": "markdown",
      "metadata": {
        "id": "view-in-github",
        "colab_type": "text"
      },
      "source": [
        "<a href=\"https://colab.research.google.com/github/microprediction/timemachines/blob/main/examples/notebooks/wiggling.ipynb\" target=\"_parent\"><img src=\"https://colab.research.google.com/assets/colab-badge.svg\" alt=\"Open In Colab\"/></a>"
      ]
    },
    {
      "cell_type": "code",
      "execution_count": null,
      "metadata": {
        "id": "R0XRgcX_7Lpq"
      },
      "outputs": [],
      "source": [
        "!pip install pmdarima\n",
        "!pip install sktime\n",
        "!pip install statsforecast\n",
        "!pip install --upgrade git+https://github.com/microprediction/timemachines.git"
      ]
    },
    {
      "cell_type": "markdown",
      "source": [
        "# How to wiggle a timeseries model\n",
        "Just a little demo related to [Smooth Move - Does Wiggling Make Time-Series Models Less Acurate?](https://medium.com/p/8544e675873). "
      ],
      "metadata": {
        "id": "S49hRy3P7W6p"
      }
    },
    {
      "cell_type": "markdown",
      "source": [
        "### Step 1: Choose a skater\n",
        "A \"skater\" is a one-line forecasting function. See [timemachines](https://github.com/microprediction/timemachines) README. "
      ],
      "metadata": {
        "id": "k27zBSRk75Pw"
      }
    },
    {
      "cell_type": "code",
      "source": [
        "from timemachines.skaters.sk.skautoarima import sk_autoarima as f"
      ],
      "metadata": {
        "id": "oRE4vsWB74U4"
      },
      "execution_count": 1,
      "outputs": []
    },
    {
      "cell_type": "markdown",
      "source": [
        "## Step 2: Wiggle it\n",
        "\n"
      ],
      "metadata": {
        "id": "n4PKndHHEu5L"
      }
    },
    {
      "cell_type": "code",
      "source": [
        "from timemachines.skatertools.smoothing.wiggling import wiggler\n",
        "\n",
        "def g(*args,**kwargs):\n",
        "   \"\"\" A more regular version of a time-series model \"\"\"\n",
        "   return wiggler(f=f,*args, **kwargs)"
      ],
      "metadata": {
        "id": "a4x18PkcEw4O"
      },
      "execution_count": 3,
      "outputs": []
    },
    {
      "cell_type": "markdown",
      "source": [
        "### Step 3: Let's see if it helps make things more regular\n",
        "Bootstrapping will cost you some compute. And this demo is really slow as it will compute Auto-ARIMA many times over. See you after breakfast."
      ],
      "metadata": {
        "id": "jnZSyXP18Xfg"
      }
    },
    {
      "cell_type": "code",
      "source": [
        "from timemachines.skatertools.sensitivity.skatersensitivity import skater_bump_plot\n",
        "skater_bump_plot(f=f, g=g, ndx=-5, k=1)"
      ],
      "metadata": {
        "colab": {
          "base_uri": "https://localhost:8080/",
          "height": 545
        },
        "id": "ktg4xxH57rNF",
        "outputId": "2565d9b0-d0a5-452b-b579-9eb4803086c5"
      },
      "execution_count": 4,
      "outputs": [
        {
          "metadata": {
            "tags": null
          },
          "name": "stdout",
          "output_type": "stream",
          "text": [
            "{'ar': 5,\n",
            " 'ar_true': 5,\n",
            " 'exog': 0,\n",
            " 'exog_variance': 0,\n",
            " 'ma': 0,\n",
            " 'ma_true': 0,\n",
            " 'measurement_variance': 0,\n",
            " 'reduced_ar': 5,\n",
            " 'reduced_ma': 0,\n",
            " 'seasonal_ar': 0,\n",
            " 'seasonal_ma': 0,\n",
            " 'trend': 1,\n",
            " 'variance': 1}\n",
            "Comparing ...\n"
          ]
        },
        {
          "data": {
            "image/png": "[encoded data removed]",
            "text/plain": [
              "<Figure size 432x288 with 1 Axes>"
            ]
          },
          "metadata": {},
          "output_type": "display_data"
        }
      ]
    },
    {
      "cell_type": "markdown",
      "source": [
        "## Step 3: Buy this [book](https://mitpress.mit.edu/9780262047326/microprediction/)\n",
        "I hear it is fantastic. "
      ],
      "metadata": {
        "id": "uksV99uQ8s9R"
      }
    }
  ]
}